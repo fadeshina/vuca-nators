{
 "cells": [
  {
   "cell_type": "markdown",
   "metadata": {},
   "source": [
    " ## CRYPTOCURRENCY PRICE FUNDAMENTALS PREDICTION VIA LSTM NETWORK\n",
    " ## MODEL TWO, PRICE NO LONGER AN INPUT\n",
    "## BY JAMES BURNS\n",
    "**FOR PROFESSOR KUROCHKIN AND TAS:   \n",
    "CSCI S-89 2021**"
   ]
  },
  {
   "cell_type": "markdown",
   "metadata": {},
   "source": [
    "An analysis based primarily on the work:\n",
    "\n",
    "\"The fundamental drivers of cryptocurrency prices\"\n",
    "Siddharth Bhambhwani, Stefanos Delikouras, George Korniotis 24 August 2019\n",
    "https://voxeu.org/article/fundamental-drivers-cryptocurrency-prices"
   ]
  },
  {
   "cell_type": "code",
   "execution_count": 1,
   "metadata": {
    "scrolled": true
   },
   "outputs": [],
   "source": [
    "import json\n",
    "import numpy as np\n",
    "import matplotlib.pyplot as plt\n",
    "import pandas as pd\n",
    "import requests\n",
    "import datetime\n",
    "import statsmodels.api as smt\n",
    "import time\n",
    "#stats models OLS tutorial https://www.geeksforgeeks.org/ordinary-least-squares-ols-using-statsmodels/\n",
    "#Data analysis packages learned from DGMD S-14 Prof.Jose Ramirez Herran, Harvard Summer School\n",
    "\n",
    "#Patch for dataframe to handle large numbers https://stackoverflow.com/questions/61732956/pandas-read-json-with-int64-values-raises-valueerror-value-is-too-big\n",
    "pd.io.json._json.loads = lambda s, *a, **kw: json.loads(s)"
   ]
  },
  {
   "cell_type": "code",
   "execution_count": 2,
   "metadata": {
    "scrolled": true
   },
   "outputs": [],
   "source": [
    "#Set up default API values\n",
    "Price = \"https://api.glassnode.com/v1/metrics/market/price_usd_close\"\n",
    "Hashrate = \"https://api.glassnode.com/v1/metrics/mining/hash_rate_mean\"\n",
    "Accounts = \"https://api.glassnode.com/v1/metrics/addresses/active_count\"\n",
    "#Three tokens available\n",
    "Token = \"ETH\" #BTC or ETH or LTC\n",
    "#Year start UNIX timestamps, represent January 1st\n",
    "Year_2021 = \"1609459200\"\n",
    "Year_2020 = \"1577854800\"\n",
    "Year_2019 = \"1546300800\"\n",
    "Year_2018 = \"1514764800\"\n",
    "Year_2017 = \"1483228800\"\n",
    "Year_2016 = \"1451606400\"\n",
    "#Choose your default start year\n",
    "Data_start_year = Year_2018\n",
    "#Choose your default frequency eg \"1w\" or \"24h\"\n",
    "Data_frequency = \"24h\"\n",
    "#Choose to log price data by base e\n",
    "Natural_log = False"
   ]
  },
  {
   "cell_type": "code",
   "execution_count": 3,
   "metadata": {
    "scrolled": true
   },
   "outputs": [],
   "source": [
    "def Pull_blockchain_data(token, data_start_year, data_end, data_frequency, data_type, natural_log = False):\n",
    "    '''\n",
    "    Portions of code from glassnode API documentation \n",
    "    https://docs.glassnode.com/basic-api/api-key#example-using-python\n",
    "    requests,json,pandas already imported\n",
    "    natural_log takes the log_e of data, boolean. Default is FALSE.\n",
    "    '''\n",
    "    API_KEY = '1rScABdwvd1vnOtqt4FWaI9pdeU'\n",
    "    '''\n",
    "    Make API request\n",
    "    a is your ticker (BTC or ETH or LTC)\n",
    "    s is timestamp start\n",
    "    i is frequency, code default is daily, 1w is weekly\n",
    "    '''\n",
    "    res = requests.get(data_type,\n",
    "        params={'a': token, 'api_key': API_KEY, 's':data_start_year, 'u':data_end,'i': data_frequency})\n",
    "    # convert to pandas dataframe\n",
    "    df = pd.read_json(res.text, convert_dates=['t'])\n",
    "    \n",
    "    logarithmic = \"\"\n",
    "    #Loge data transformation\n",
    "    if natural_log:\n",
    "        df['v'] = np.log(df['v'])\n",
    "        logarithmic = \"Log_e \"\n",
    "    \n",
    "    #creates title with currency and data start year\n",
    "    global Title\n",
    "    Title = logarithmic + token + \" since \" + datetime.datetime.utcfromtimestamp(int(data_start_year)).strftime('%Y')\n",
    "        \n",
    "    #timestamp change https://stackoverflow.com/questions/3682748/converting-unix-timestamp-string-to-readable-date\n",
    "    return df\n"
   ]
  },
  {
   "cell_type": "code",
   "execution_count": 4,
   "metadata": {
    "scrolled": true
   },
   "outputs": [],
   "source": [
    "def normalize(df):\n",
    "    '''\n",
    "    Built for data from glassnode\n",
    "    \n",
    "    Takes natural log of raw data\n",
    "    Subtracts mean of logged data from result\n",
    "    Subtracts standard deviation of mean subtracted data\n",
    "    Returns normalized data column\n",
    "    Method from Bhambhwani et al.\n",
    "    '''\n",
    "    df['v'] = np.log(df['v'])\n",
    "    df['v'] = ((df['v']) - df['v'].mean())\n",
    "    df['v'] = ((df['v']) / df['v'].std())\n",
    "    \n",
    "    return df\n"
   ]
  },
  {
   "cell_type": "code",
   "execution_count": 5,
   "metadata": {
    "scrolled": true
   },
   "outputs": [],
   "source": [
    "def build_dataframe(token, data_start_year, data_frequency, data_end = int(time.time())):\n",
    "    '''\n",
    "    Collects the price, hashrate, and accounts\n",
    "    Combines into one frame\n",
    "    '''\n",
    "    dfp = normalize(Pull_blockchain_data(token, data_start_year, data_end, data_frequency, Price))\n",
    "    dfh = normalize(Pull_blockchain_data(token, data_start_year, data_end, data_frequency, Hashrate))\n",
    "    dfa = normalize(Pull_blockchain_data(token, data_start_year, data_end, data_frequency, Accounts))\n",
    "    \n",
    "    #change frame name for graphing\n",
    "    dfp['p'] = dfp['v']\n",
    "    dfh['h'] = dfh['v']\n",
    "    dfa['a'] = dfa['v']\n",
    "    \n",
    "    frames = [dfp['t'],dfp['p'],dfh['h'],dfa['a']]\n",
    "    df = pd.concat(frames, axis = 1)\n",
    "    if data_frequency == \"24h\":\n",
    "        df.drop(df.tail(1).index,inplace=True) # drop last row (tomorrow's data)\n",
    "    \n",
    "    # deleting last row NaN https://stackoverflow.com/questions/26921651/how-to-delete-the-last-row-of-data-of-a-pandas-dataframe\n",
    "    # pandas documentaion https://pandas.pydata.org/pandas-docs/stable/user_guide/merging.html\n",
    "    return df"
   ]
  },
  {
   "cell_type": "code",
   "execution_count": 6,
   "metadata": {
    "scrolled": true
   },
   "outputs": [],
   "source": [
    "def plot_price_hashrate(df):\n",
    "    x = df['t']\n",
    "    y1 = df['p']\n",
    "    y2 = df['h']\n",
    "    \n",
    "    \n",
    "    plt.figure(num = 1, facecolor = 'powderblue', figsize=(12,5))\n",
    "    plt.plot(x,y2)\n",
    "    plt.plot(x,y1,\n",
    "        color='red',\n",
    "        linestyle='--'\n",
    "        ) #price is always red line\n",
    "    plt.title(Title, size = 24)\n",
    "    plt.ylabel(\"Normalized Price & Hashrate\")\n",
    "    plt.xlabel(\"Time\")\n",
    "    \n",
    "    plt.show()\n",
    "    \n",
    "    #labels for plot https://www.w3schools.com/python/matplotlib_labels.asp\n",
    "    #https://matplotlib.org/stable/api/_as_gen/matplotlib.pyplot.figure.html"
   ]
  },
  {
   "cell_type": "code",
   "execution_count": 7,
   "metadata": {
    "scrolled": true
   },
   "outputs": [],
   "source": [
    "def plot_price_accounts(df):\n",
    "    x = df['t']\n",
    "    y1 = df['p']\n",
    "    y2 = df['a']\n",
    "\n",
    "    plt.figure(num = 2, facecolor = 'tan', figsize=(12,5))\n",
    "    plt.plot(x,y2)\n",
    "    plt.plot(x,y1,\n",
    "        color='red',\n",
    "        linestyle='--'\n",
    "        ) #price is always red line\n",
    "    plt.title(Title, size = 24)\n",
    "    plt.ylabel(\"Normalized Price & Active Accounts\")\n",
    "    plt.xlabel(\"Time\")\n",
    "    \n",
    "    plt.show()\n",
    "    \n",
    "    #labels for plot https://www.w3schools.com/python/matplotlib_labels.asp\n",
    "    #https://matplotlib.org/stable/api/_as_gen/matplotlib.pyplot.figure.html"
   ]
  },
  {
   "cell_type": "code",
   "execution_count": 8,
   "metadata": {
    "scrolled": true
   },
   "outputs": [],
   "source": [
    "#Builds dataframe from API and processes data\n",
    "#Args are token, start year, frequency, (and optional end year)\n",
    "\n",
    "df = build_dataframe(\"BTC\", Year_2016, \"1w\")"
   ]
  },
  {
   "cell_type": "code",
   "execution_count": 9,
   "metadata": {
    "scrolled": true
   },
   "outputs": [
    {
     "data": {
      "text/html": [
       "<div>\n",
       "<style scoped>\n",
       "    .dataframe tbody tr th:only-of-type {\n",
       "        vertical-align: middle;\n",
       "    }\n",
       "\n",
       "    .dataframe tbody tr th {\n",
       "        vertical-align: top;\n",
       "    }\n",
       "\n",
       "    .dataframe thead th {\n",
       "        text-align: right;\n",
       "    }\n",
       "</style>\n",
       "<table border=\"1\" class=\"dataframe\">\n",
       "  <thead>\n",
       "    <tr style=\"text-align: right;\">\n",
       "      <th></th>\n",
       "      <th>t</th>\n",
       "      <th>p</th>\n",
       "      <th>h</th>\n",
       "      <th>a</th>\n",
       "    </tr>\n",
       "  </thead>\n",
       "  <tbody>\n",
       "    <tr>\n",
       "      <th>288</th>\n",
       "      <td>2021-07-05</td>\n",
       "      <td>1.449838</td>\n",
       "      <td>0.856098</td>\n",
       "      <td>0.435600</td>\n",
       "    </tr>\n",
       "    <tr>\n",
       "      <th>289</th>\n",
       "      <td>2021-07-12</td>\n",
       "      <td>1.394885</td>\n",
       "      <td>0.877949</td>\n",
       "      <td>0.211456</td>\n",
       "    </tr>\n",
       "    <tr>\n",
       "      <th>290</th>\n",
       "      <td>2021-07-19</td>\n",
       "      <td>1.471342</td>\n",
       "      <td>0.874140</td>\n",
       "      <td>0.289420</td>\n",
       "    </tr>\n",
       "    <tr>\n",
       "      <th>291</th>\n",
       "      <td>2021-07-26</td>\n",
       "      <td>1.568465</td>\n",
       "      <td>0.929258</td>\n",
       "      <td>0.599190</td>\n",
       "    </tr>\n",
       "    <tr>\n",
       "      <th>292</th>\n",
       "      <td>2021-08-02</td>\n",
       "      <td>1.633496</td>\n",
       "      <td>0.940754</td>\n",
       "      <td>0.098989</td>\n",
       "    </tr>\n",
       "  </tbody>\n",
       "</table>\n",
       "</div>"
      ],
      "text/plain": [
       "             t         p         h         a\n",
       "288 2021-07-05  1.449838  0.856098  0.435600\n",
       "289 2021-07-12  1.394885  0.877949  0.211456\n",
       "290 2021-07-19  1.471342  0.874140  0.289420\n",
       "291 2021-07-26  1.568465  0.929258  0.599190\n",
       "292 2021-08-02  1.633496  0.940754  0.098989"
      ]
     },
     "execution_count": 9,
     "metadata": {},
     "output_type": "execute_result"
    }
   ],
   "source": [
    "#data sample\n",
    "df.tail()"
   ]
  },
  {
   "cell_type": "code",
   "execution_count": 10,
   "metadata": {
    "scrolled": true
   },
   "outputs": [
    {
     "data": {
      "image/png": "[encoded data removed]",
      "text/plain": [
       "<Figure size 864x360 with 1 Axes>"
      ]
     },
     "metadata": {},
     "output_type": "display_data"
    }
   ],
   "source": [
    "plot_price_hashrate(df)"
   ]
  },
  {
   "cell_type": "code",
   "execution_count": 11,
   "metadata": {
    "scrolled": true
   },
   "outputs": [
    {
     "data": {
      "image/png": "[encoded data removed]",
      "text/plain": [
       "<Figure size 864x360 with 1 Axes>"
      ]
     },
     "metadata": {},
     "output_type": "display_data"
    }
   ],
   "source": [
    "plot_price_accounts(df)"
   ]
  },
  {
   "cell_type": "code",
   "execution_count": 12,
   "metadata": {
    "scrolled": true
   },
   "outputs": [],
   "source": [
    "#Use if regression fails due to nan value (data source value for incomplete day/week)\n",
    "df.drop(df.tail(1).index,inplace=True)"
   ]
  },
  {
   "cell_type": "code",
   "execution_count": 13,
   "metadata": {
    "scrolled": true
   },
   "outputs": [
    {
     "name": "stdout",
     "output_type": "stream",
     "text": [
      "                            OLS Regression Results                            \n",
      "==============================================================================\n",
      "Dep. Variable:                      p   R-squared:                       0.897\n",
      "Model:                            OLS   Adj. R-squared:                  0.897\n",
      "Method:                 Least Squares   F-statistic:                     1264.\n",
      "Date:                Sun, 08 Aug 2021   Prob (F-statistic):          1.26e-143\n",
      "Time:                        22:12:05   Log-Likelihood:                -80.529\n",
      "No. Observations:                 292   AIC:                             167.1\n",
      "Df Residuals:                     289   BIC:                             178.1\n",
      "Df Model:                           2                                         \n",
      "Covariance Type:            nonrobust                                         \n",
      "==============================================================================\n",
      "                 coef    std err          t      P>|t|      [0.025      0.975]\n",
      "------------------------------------------------------------------------------\n",
      "const         -0.0034      0.019     -0.184      0.854      -0.040       0.033\n",
      "h              0.6273      0.027     23.173      0.000       0.574       0.681\n",
      "a              0.3859      0.027     14.276      0.000       0.333       0.439\n",
      "==============================================================================\n",
      "Omnibus:                       13.069   Durbin-Watson:                   0.122\n",
      "Prob(Omnibus):                  0.001   Jarque-Bera (JB):               10.540\n",
      "Skew:                           0.375   Prob(JB):                      0.00514\n",
      "Kurtosis:                       2.448   Cond. No.                         2.48\n",
      "==============================================================================\n",
      "\n",
      "Notes:\n",
      "[1] Standard Errors assume that the covariance matrix of the errors is correctly specified.\n"
     ]
    }
   ],
   "source": [
    "'''\n",
    "Statsmodels OLS Analysis https://www.geeksforgeeks.org/ordinary-least-squares-ols-using-statsmodels/\n",
    "Statsmodels multiple regression https://www.datarobot.com/blog/multiple-regression-using-statsmodels/\n",
    "Statsmodels documentaion for linear OLS https://www.statsmodels.org/stable/generated/statsmodels.regression.linear_model.OLS.html\n",
    "\n",
    "Ordinary Least Squares method used to follow Bhambhwani et al.\n",
    "High R-squared suggests strong correlation between fundamental factors and price\n",
    "'''\n",
    "\n",
    "#normalized dataframe already made\n",
    "#define variables, hashrate and active_accounts as independent, price as dependent\n",
    "x = df[['h', 'a']]\n",
    "y = df['p']\n",
    "\n",
    "#add constant term\n",
    "x = smt.add_constant(x)\n",
    "\n",
    "# performing the regression, fitting the model\n",
    "result = smt.OLS(y, x).fit()\n",
    "  \n",
    "print(result.summary())"
   ]
  },
  {
   "cell_type": "markdown",
   "metadata": {},
   "source": [
    "# Part II: LSTM Network"
   ]
  },
  {
   "cell_type": "code",
   "execution_count": 14,
   "metadata": {
    "scrolled": true
   },
   "outputs": [],
   "source": [
    "from statsmodels.graphics.tsaplots import plot_acf, plot_pacf \n",
    "from statsmodels.tsa.stattools import acf, pacf\n",
    "\n",
    "from pandas import DataFrame\n",
    "from pandas import concat\n",
    "\n",
    "import keras\n",
    "from keras import optimizers\n",
    "import tensorflow as tf\n",
    "from tensorflow.keras import layers\n",
    "from tensorflow.keras import models\n",
    "from tensorflow.keras.models import Sequential\n",
    "from tensorflow.keras.layers import Dense, Dropout, LSTM, BatchNormalization\n",
    "from tensorflow.keras.callbacks import TensorBoard\n",
    "from tensorflow.keras.callbacks import ModelCheckpoint\n",
    "\n",
    "#df data imported, normalized above\n",
    "#df is [time, price, hashrate, activeAccounts] as df = [t,p,h,a]\n",
    "\n",
    "xt = df\n",
    "xt = xt.reset_index(drop=True)"
   ]
  },
  {
   "cell_type": "code",
   "execution_count": 15,
   "metadata": {
    "scrolled": true
   },
   "outputs": [],
   "source": [
    "xt = xt.to_numpy()"
   ]
  },
  {
   "cell_type": "code",
   "execution_count": 16,
   "metadata": {
    "scrolled": true
   },
   "outputs": [
    {
     "data": {
      "text/plain": [
       "array([[Timestamp('2015-12-28 00:00:00'), -1.8187895780242633,\n",
       "        -2.032556359805058, -2.532540773010017],\n",
       "       [Timestamp('2016-01-04 00:00:00'), -1.7882991682460743,\n",
       "        -1.9552739508771884, -2.1628316651914177],\n",
       "       [Timestamp('2016-01-11 00:00:00'), -1.9145513836504724,\n",
       "        -1.9681640125611433, -1.8534469783779857],\n",
       "       ...,\n",
       "       [Timestamp('2021-07-12 00:00:00'), 1.394884921969783,\n",
       "        0.8779492185808788, 0.21145569467021819],\n",
       "       [Timestamp('2021-07-19 00:00:00'), 1.4713421325351748,\n",
       "        0.8741395335539442, 0.2894197581655493],\n",
       "       [Timestamp('2021-07-26 00:00:00'), 1.56846453916184,\n",
       "        0.9292578349818224, 0.59919033913381]], dtype=object)"
      ]
     },
     "execution_count": 16,
     "metadata": {},
     "output_type": "execute_result"
    }
   ],
   "source": [
    "xt"
   ]
  },
  {
   "cell_type": "code",
   "execution_count": 17,
   "metadata": {
    "scrolled": true
   },
   "outputs": [
    {
     "data": {
      "text/plain": [
       "(292, 4)"
      ]
     },
     "execution_count": 17,
     "metadata": {},
     "output_type": "execute_result"
    }
   ],
   "source": [
    "xt.shape"
   ]
  },
  {
   "cell_type": "code",
   "execution_count": 18,
   "metadata": {
    "scrolled": true
   },
   "outputs": [],
   "source": [
    "#Convert data into 3d array of \n",
    "# shape (observations over time, n_timesteps, n_vars)\n",
    "\n",
    "n_timesteps = 8\n",
    "\n",
    "features_set_price = []\n",
    "labels_price = []\n",
    "for i in range(n_timesteps, xt.shape[0]):\n",
    "    features_set_price.append(xt[i-n_timesteps:i,1]) #prices\n",
    "    labels_price.append(xt[i,1])\n",
    "\n",
    "features_set_hash = []\n",
    "labels_hash = []\n",
    "for i in range(n_timesteps, xt.shape[0]):\n",
    "    features_set_hash.append(xt[i-n_timesteps:i,2]) \n",
    "    labels_hash.append(xt[i,2])\n",
    "    \n",
    "features_set_accounts = []\n",
    "labels_accounts = []\n",
    "for i in range(n_timesteps, xt.shape[0]):\n",
    "    features_set_accounts.append(xt[i-n_timesteps:i,3])\n",
    "    labels_accounts.append(xt[i,3])  "
   ]
  },
  {
   "cell_type": "code",
   "execution_count": 19,
   "metadata": {
    "scrolled": true
   },
   "outputs": [
    {
     "data": {
      "text/plain": [
       "(284, 8, 2)"
      ]
     },
     "execution_count": 19,
     "metadata": {},
     "output_type": "execute_result"
    }
   ],
   "source": [
    "# Combine features_set variables into a single tensor\n",
    "features_set_price, features_set_hash, features_set_accounts = np.array(features_set_price, dtype=np.float), np.array(features_set_hash, dtype=np.float), np.array(features_set_accounts, dtype=np.float)\n",
    "\n",
    "labels_price,labels_hash,labels_accounts = np.array(labels_price, dtype=np.float), np.array(labels_hash, dtype=np.float), np.array(labels_accounts, dtype=np.float)\n",
    "\n",
    "features_set = np.zeros((len(xt) - n_timesteps, n_timesteps, 2))\n",
    "features_set[:, :, 0] = features_set_hash\n",
    "features_set[:, :, 1] = features_set_accounts\n",
    "features_set.shape"
   ]
  },
  {
   "cell_type": "code",
   "execution_count": 20,
   "metadata": {
    "scrolled": true
   },
   "outputs": [
    {
     "data": {
      "text/plain": [
       "(284, 2)"
      ]
     },
     "execution_count": 20,
     "metadata": {},
     "output_type": "execute_result"
    }
   ],
   "source": [
    "# Combine labels for each variable into a single tensor\n",
    "labels = np.zeros((len(xt) - n_timesteps, 2))\n",
    "labels[:, 0] = labels_hash\n",
    "labels[:, 1] = labels_accounts\n",
    "labels.shape"
   ]
  },
  {
   "cell_type": "code",
   "execution_count": 21,
   "metadata": {
    "scrolled": true
   },
   "outputs": [
    {
     "data": {
      "text/plain": [
       "pandas.core.series.Series"
      ]
     },
     "execution_count": 21,
     "metadata": {},
     "output_type": "execute_result"
    }
   ],
   "source": [
    "# Creates a variable that represents price only for graphing later\n",
    "xtPriceOnly = []\n",
    "\n",
    "for i in range(0, xt.shape[0]):\n",
    "    xtPriceOnly.append(xt[i,1]) #prices, removed i - num timestamps\n",
    "\n",
    "xtPriceOnly = pd.Series(xtPriceOnly)\n",
    "type(xtPriceOnly)"
   ]
  },
  {
   "cell_type": "code",
   "execution_count": 22,
   "metadata": {
    "scrolled": true
   },
   "outputs": [
    {
     "name": "stdout",
     "output_type": "stream",
     "text": [
      "features_set_train.shape is  (227, 8, 2)\n",
      "labels_train.shape is  (227, 2)\n",
      "\n",
      "features_set_test.shape is  (57, 8, 2)\n",
      "labels_test.shape is  (57, 2)\n"
     ]
    }
   ],
   "source": [
    "# split into train and test sets\n",
    "n = features_set.shape[0]\n",
    "n_train = int(n * 0.80)\n",
    "n_test = n - n_train\n",
    "#print(\"n_train = \",str(n_train))\n",
    "#print(\"n_test = \",str(n_test))\n",
    "\n",
    "features_set_train, features_set_test =  features_set[0:n_train,:,:], features_set[n_train:n,:,:]\n",
    "labels_train, labels_test =  labels[0:n_train], labels[n_train:n]\n",
    "\n",
    "print(\"features_set_train.shape is \", features_set_train.shape)\n",
    "print(\"labels_train.shape is \", labels_train.shape)\n",
    "print(\"\\nfeatures_set_test.shape is \", features_set_test.shape)\n",
    "print(\"labels_test.shape is \", labels_test.shape)"
   ]
  },
  {
   "cell_type": "code",
   "execution_count": 23,
   "metadata": {
    "scrolled": true
   },
   "outputs": [
    {
     "name": "stdout",
     "output_type": "stream",
     "text": [
      "features:\n"
     ]
    },
    {
     "data": {
      "text/plain": [
       "array([[-2.03255636, -1.95527395, -1.96816401, -1.90506272, -1.85942229,\n",
       "        -1.79815159, -1.73710459, -1.78355248],\n",
       "       [-1.95527395, -1.96816401, -1.90506272, -1.85942229, -1.79815159,\n",
       "        -1.73710459, -1.78355248, -1.78269153]])"
      ]
     },
     "metadata": {},
     "output_type": "display_data"
    },
    {
     "name": "stdout",
     "output_type": "stream",
     "text": [
      "labels:\n"
     ]
    },
    {
     "data": {
      "text/plain": [
       "array([[-1.78269153, -1.54262685],\n",
       "       [-1.74912934, -1.41184291]])"
      ]
     },
     "metadata": {},
     "output_type": "display_data"
    }
   ],
   "source": [
    "#Show data structure\n",
    "print(\"features:\")\n",
    "display(features_set_train[0:2,:,0])\n",
    "print(\"labels:\")\n",
    "display(labels_train[0:2])"
   ]
  },
  {
   "cell_type": "code",
   "execution_count": 24,
   "metadata": {
    "scrolled": true
   },
   "outputs": [
    {
     "name": "stdout",
     "output_type": "stream",
     "text": [
      "Model: \"sequential\"\n",
      "_________________________________________________________________\n",
      "Layer (type)                 Output Shape              Param #   \n",
      "=================================================================\n",
      "lstm (LSTM)                  (None, 20)                1840      \n",
      "_________________________________________________________________\n",
      "dropout (Dropout)            (None, 20)                0         \n",
      "_________________________________________________________________\n",
      "dense (Dense)                (None, 1)                 21        \n",
      "=================================================================\n",
      "Total params: 1,861\n",
      "Trainable params: 1,861\n",
      "Non-trainable params: 0\n",
      "_________________________________________________________________\n"
     ]
    }
   ],
   "source": [
    "#Build LSTM Model\n",
    "\n",
    "n_features = 2\n",
    "#timestamps variable above\n",
    "\n",
    "import tensorflow\n",
    "import tensorflow.keras.layers\n",
    "\n",
    "model_lstm = models.Sequential()\n",
    "model_lstm.add(layers.LSTM(20, input_shape=(n_timesteps,n_features))) #more variables here?\n",
    "model_lstm.add(Dropout(0.2))\n",
    "model_lstm.add(layers.Dense(1, activation = 'linear'))\n",
    "\n",
    "model_lstm.summary()"
   ]
  },
  {
   "cell_type": "code",
   "execution_count": 25,
   "metadata": {
    "scrolled": true
   },
   "outputs": [
    {
     "name": "stdout",
     "output_type": "stream",
     "text": [
      "Epoch 1/25\n",
      "227/227 [==============================] - 2s 4ms/step - loss: 0.7147 - val_loss: 0.8405\n",
      "Epoch 2/25\n",
      "227/227 [==============================] - 1s 2ms/step - loss: 0.4853 - val_loss: 0.5850\n",
      "Epoch 3/25\n",
      "227/227 [==============================] - 1s 2ms/step - loss: 0.3492 - val_loss: 0.4241\n",
      "Epoch 4/25\n",
      "227/227 [==============================] - 1s 2ms/step - loss: 0.2827 - val_loss: 0.3186\n",
      "Epoch 5/25\n",
      "227/227 [==============================] - 1s 2ms/step - loss: 0.2345 - val_loss: 0.2737\n",
      "Epoch 6/25\n",
      "227/227 [==============================] - 1s 3ms/step - loss: 0.2215 - val_loss: 0.2437\n",
      "Epoch 7/25\n",
      "227/227 [==============================] - 1s 2ms/step - loss: 0.2163 - val_loss: 0.2287\n",
      "Epoch 8/25\n",
      "227/227 [==============================] - 1s 2ms/step - loss: 0.2158 - val_loss: 0.2116\n",
      "Epoch 9/25\n",
      "227/227 [==============================] - 1s 2ms/step - loss: 0.2251 - val_loss: 0.2094\n",
      "Epoch 10/25\n",
      "227/227 [==============================] - 1s 2ms/step - loss: 0.2172 - val_loss: 0.1948\n",
      "Epoch 11/25\n",
      "227/227 [==============================] - 1s 2ms/step - loss: 0.2089 - val_loss: 0.1919\n",
      "Epoch 12/25\n",
      "227/227 [==============================] - 1s 2ms/step - loss: 0.2155 - val_loss: 0.1917\n",
      "Epoch 13/25\n",
      "227/227 [==============================] - 1s 2ms/step - loss: 0.2055 - val_loss: 0.1928\n",
      "Epoch 14/25\n",
      "227/227 [==============================] - 0s 2ms/step - loss: 0.2092 - val_loss: 0.1894\n",
      "Epoch 15/25\n",
      "227/227 [==============================] - 0s 2ms/step - loss: 0.2124 - val_loss: 0.1717\n",
      "Epoch 16/25\n",
      "227/227 [==============================] - 1s 2ms/step - loss: 0.2076 - val_loss: 0.1728\n",
      "Epoch 17/25\n",
      "227/227 [==============================] - 1s 2ms/step - loss: 0.2086 - val_loss: 0.1706\n",
      "Epoch 18/25\n",
      "227/227 [==============================] - 0s 2ms/step - loss: 0.2113 - val_loss: 0.1686\n",
      "Epoch 19/25\n",
      "227/227 [==============================] - 0s 2ms/step - loss: 0.1994 - val_loss: 0.1641\n",
      "Epoch 20/25\n",
      "227/227 [==============================] - 0s 2ms/step - loss: 0.2128 - val_loss: 0.1660\n",
      "Epoch 21/25\n",
      "227/227 [==============================] - 1s 2ms/step - loss: 0.2128 - val_loss: 0.1556\n",
      "Epoch 22/25\n",
      "227/227 [==============================] - 0s 2ms/step - loss: 0.2073 - val_loss: 0.1576\n",
      "Epoch 23/25\n",
      "227/227 [==============================] - 0s 2ms/step - loss: 0.2079 - val_loss: 0.1517\n",
      "Epoch 24/25\n",
      "227/227 [==============================] - 1s 2ms/step - loss: 0.2082 - val_loss: 0.1473\n",
      "Epoch 25/25\n",
      "227/227 [==============================] - 0s 2ms/step - loss: 0.2061 - val_loss: 0.1511\n"
     ]
    }
   ],
   "source": [
    "#Train\n",
    "nepochs = 25\n",
    "\n",
    "opt = tf.keras.optimizers.Adam(learning_rate=0.0001) \n",
    "#divide lr if not working\n",
    "\n",
    "model_lstm.compile(loss='mse',optimizer= opt)\n",
    "\n",
    "history = model_lstm.fit(features_set_train, labels_train,\n",
    "          epochs=nepochs,\n",
    "          batch_size=1,\n",
    "          validation_data=(features_set_test, labels_test))\n",
    "history = history.history"
   ]
  },
  {
   "cell_type": "code",
   "execution_count": 26,
   "metadata": {
    "scrolled": false
   },
   "outputs": [
    {
     "data": {
      "text/plain": [
       "<Figure size 432x288 with 0 Axes>"
      ]
     },
     "metadata": {},
     "output_type": "display_data"
    },
    {
     "data": {
      "image/png": "[encoded data removed]",
      "text/plain": [
       "<Figure size 1152x432 with 1 Axes>"
      ]
     },
     "metadata": {
      "needs_background": "light"
     },
     "output_type": "display_data"
    }
   ],
   "source": [
    "plt.clf()   # clear figure\n",
    "train_mse = history['loss']\n",
    "test_mse = history['val_loss']\n",
    "\n",
    "plt.figure(figsize=(16,6))\n",
    "plt.plot(range(1,nepochs+1), train_mse, 'b', label='train MSE',color=\"blue\")\n",
    "plt.plot(range(1,nepochs+1), test_mse, 'b', label='test MSE',color=\"red\")\n",
    "\n",
    "#plt.ylim((0, 0.0001))\n",
    "plt.title('LSTM net: min(test MSE) = ' + str(round(min(test_mse),6)),fontsize=16)\n",
    "plt.xlabel('Epochs',fontsize=16)\n",
    "plt.ylabel('MSE',fontsize=16)\n",
    "plt.legend(loc = 'upper right',fontsize=16)\n",
    "#plt.ylim(0,0.001)\n",
    "\n",
    "plt.show()"
   ]
  },
  {
   "cell_type": "code",
   "execution_count": 27,
   "metadata": {
    "scrolled": true
   },
   "outputs": [
    {
     "data": {
      "text/plain": [
       "array([[-1.54386318e+00],\n",
       "       [-1.52164435e+00],\n",
       "       [-1.49322104e+00],\n",
       "       [-1.55811274e+00],\n",
       "       [-1.60566103e+00],\n",
       "       [-1.65293169e+00],\n",
       "       [-1.61393702e+00],\n",
       "       [-1.65465057e+00],\n",
       "       [-1.66381204e+00],\n",
       "       [-1.67783213e+00],\n",
       "       [-1.67191076e+00],\n",
       "       [-1.68683231e+00],\n",
       "       [-1.69061434e+00],\n",
       "       [-1.67995477e+00],\n",
       "       [-1.67366719e+00],\n",
       "       [-1.66065335e+00],\n",
       "       [-1.63876057e+00],\n",
       "       [-1.56844747e+00],\n",
       "       [-1.53238881e+00],\n",
       "       [-1.53796446e+00],\n",
       "       [-1.56134260e+00],\n",
       "       [-1.57859457e+00],\n",
       "       [-1.59897530e+00],\n",
       "       [-1.59627223e+00],\n",
       "       [-1.58761680e+00],\n",
       "       [-1.58517110e+00],\n",
       "       [-1.56146276e+00],\n",
       "       [-1.55388105e+00],\n",
       "       [-1.53443968e+00],\n",
       "       [-1.50804901e+00],\n",
       "       [-1.48876107e+00],\n",
       "       [-1.47584736e+00],\n",
       "       [-1.43202615e+00],\n",
       "       [-1.34011054e+00],\n",
       "       [-1.31903923e+00],\n",
       "       [-1.27683771e+00],\n",
       "       [-1.20385420e+00],\n",
       "       [-1.17262971e+00],\n",
       "       [-1.12155700e+00],\n",
       "       [-1.06167686e+00],\n",
       "       [-9.87987816e-01],\n",
       "       [-9.07099903e-01],\n",
       "       [-8.45317960e-01],\n",
       "       [-8.41653049e-01],\n",
       "       [-8.31353545e-01],\n",
       "       [-8.50228369e-01],\n",
       "       [-8.02639604e-01],\n",
       "       [-8.22270691e-01],\n",
       "       [-8.07172835e-01],\n",
       "       [-7.53066659e-01],\n",
       "       [-6.99135959e-01],\n",
       "       [-6.83174014e-01],\n",
       "       [-6.77490771e-01],\n",
       "       [-6.48691714e-01],\n",
       "       [-6.26623869e-01],\n",
       "       [-6.03139639e-01],\n",
       "       [-5.76814234e-01],\n",
       "       [-5.86648643e-01],\n",
       "       [-6.05346620e-01],\n",
       "       [-5.91447413e-01],\n",
       "       [-5.95339119e-01],\n",
       "       [-5.82120895e-01],\n",
       "       [-5.30736625e-01],\n",
       "       [-4.61403280e-01],\n",
       "       [-3.79268706e-01],\n",
       "       [-3.22336346e-01],\n",
       "       [-2.38598302e-01],\n",
       "       [-2.00642511e-01],\n",
       "       [-1.82996541e-01],\n",
       "       [-2.11755276e-01],\n",
       "       [-2.60545403e-01],\n",
       "       [-3.19270462e-01],\n",
       "       [-3.83605212e-01],\n",
       "       [-3.85622233e-01],\n",
       "       [-3.94843668e-01],\n",
       "       [-4.05913681e-01],\n",
       "       [-4.55074817e-01],\n",
       "       [-3.93484443e-01],\n",
       "       [-3.36076289e-01],\n",
       "       [-3.78333777e-01],\n",
       "       [-3.26228023e-01],\n",
       "       [-2.90113181e-01],\n",
       "       [-2.73216724e-01],\n",
       "       [-3.18049818e-01],\n",
       "       [-3.07682991e-01],\n",
       "       [-2.69350082e-01],\n",
       "       [-1.81246132e-01],\n",
       "       [-5.49698211e-02],\n",
       "       [-1.05093326e-02],\n",
       "       [ 5.59212230e-02],\n",
       "       [ 6.32496998e-02],\n",
       "       [ 1.23749696e-01],\n",
       "       [ 1.94706589e-01],\n",
       "       [ 2.86008149e-01],\n",
       "       [ 3.77714127e-01],\n",
       "       [ 4.51585710e-01],\n",
       "       [ 4.90092695e-01],\n",
       "       [ 4.94369358e-01],\n",
       "       [ 5.24353266e-01],\n",
       "       [ 5.48414588e-01],\n",
       "       [ 5.57302058e-01],\n",
       "       [ 5.27912736e-01],\n",
       "       [ 4.44930524e-01],\n",
       "       [ 4.03829098e-01],\n",
       "       [ 3.81346613e-01],\n",
       "       [ 2.79588938e-01],\n",
       "       [ 2.64859021e-01],\n",
       "       [ 3.38330686e-01],\n",
       "       [ 2.01724514e-01],\n",
       "       [-5.37122926e-03],\n",
       "       [-1.80587053e-01],\n",
       "       [-2.98064709e-01],\n",
       "       [-3.18244487e-01],\n",
       "       [-2.64206082e-01],\n",
       "       [-2.00883359e-01],\n",
       "       [-1.52876705e-01],\n",
       "       [-1.36702254e-01],\n",
       "       [-1.47988126e-01],\n",
       "       [-1.99497461e-01],\n",
       "       [-1.90923110e-01],\n",
       "       [-1.71931878e-01],\n",
       "       [-2.02190176e-01],\n",
       "       [-2.33621553e-01],\n",
       "       [-2.48520359e-01],\n",
       "       [-2.30160713e-01],\n",
       "       [-3.26535441e-02],\n",
       "       [-3.98427434e-02],\n",
       "       [ 3.44763929e-03],\n",
       "       [ 1.24996174e-02],\n",
       "       [ 6.75440812e-03],\n",
       "       [-1.29578616e-02],\n",
       "       [-5.46481870e-02],\n",
       "       [-2.77707484e-02],\n",
       "       [-7.95143656e-03],\n",
       "       [-3.39443050e-02],\n",
       "       [-7.47623807e-03],\n",
       "       [ 8.12585000e-04],\n",
       "       [ 5.08883335e-02],\n",
       "       [ 5.15235700e-02],\n",
       "       [ 7.88664967e-02],\n",
       "       [ 8.70478079e-02],\n",
       "       [ 1.39881596e-01],\n",
       "       [ 1.52793035e-01],\n",
       "       [ 1.40202776e-01],\n",
       "       [ 1.06321208e-01],\n",
       "       [ 3.44387032e-02],\n",
       "       [-8.35453905e-03],\n",
       "       [-1.89213362e-02],\n",
       "       [-1.86662059e-02],\n",
       "       [-1.07767038e-01],\n",
       "       [-1.86669752e-01],\n",
       "       [-1.77844450e-01],\n",
       "       [-1.68242678e-01],\n",
       "       [-1.43054485e-01],\n",
       "       [-1.13160223e-01],\n",
       "       [-7.88979903e-02],\n",
       "       [-2.09443783e-03],\n",
       "       [ 3.83021273e-02],\n",
       "       [ 7.29949549e-02],\n",
       "       [ 9.18225795e-02],\n",
       "       [ 1.21701665e-01],\n",
       "       [ 1.40127465e-01],\n",
       "       [ 1.81563377e-01],\n",
       "       [ 2.54401058e-01],\n",
       "       [ 2.71993667e-01],\n",
       "       [ 2.97510296e-01],\n",
       "       [ 2.74139911e-01],\n",
       "       [ 3.03382605e-01],\n",
       "       [ 3.50285113e-01],\n",
       "       [ 4.24082994e-01],\n",
       "       [ 4.43971127e-01],\n",
       "       [ 4.72382873e-01],\n",
       "       [ 4.49383497e-01],\n",
       "       [ 4.86907929e-01],\n",
       "       [ 5.25193691e-01],\n",
       "       [ 5.73099256e-01],\n",
       "       [ 5.43227971e-01],\n",
       "       [ 4.96998340e-01],\n",
       "       [ 4.28718269e-01],\n",
       "       [ 3.64553779e-01],\n",
       "       [ 3.53162348e-01],\n",
       "       [ 3.79533678e-01],\n",
       "       [ 3.50045472e-01],\n",
       "       [ 3.66690189e-01],\n",
       "       [ 3.50231558e-01],\n",
       "       [ 3.65868360e-01],\n",
       "       [ 3.97151053e-01],\n",
       "       [ 4.26416606e-01],\n",
       "       [ 4.31527495e-01],\n",
       "       [ 4.13253516e-01],\n",
       "       [ 3.95591378e-01],\n",
       "       [ 3.79968584e-01],\n",
       "       [ 4.12612528e-01],\n",
       "       [ 4.20478195e-01],\n",
       "       [ 4.58166271e-01],\n",
       "       [ 4.47429925e-01],\n",
       "       [ 4.62689072e-01],\n",
       "       [ 4.61761802e-01],\n",
       "       [ 4.62949514e-01],\n",
       "       [ 4.84279931e-01],\n",
       "       [ 4.90208656e-01],\n",
       "       [ 4.10375804e-01],\n",
       "       [ 3.71091694e-01],\n",
       "       [ 4.16261345e-01],\n",
       "       [ 4.47792560e-01],\n",
       "       [ 4.66447651e-01],\n",
       "       [ 5.16093314e-01],\n",
       "       [ 5.70956230e-01],\n",
       "       [ 5.90089977e-01],\n",
       "       [ 5.86244643e-01],\n",
       "       [ 5.77204585e-01],\n",
       "       [ 6.02591217e-01],\n",
       "       [ 6.10694826e-01],\n",
       "       [ 5.26532114e-01],\n",
       "       [ 4.94771153e-01],\n",
       "       [ 5.16346991e-01],\n",
       "       [ 5.31056464e-01],\n",
       "       [ 6.08611166e-01],\n",
       "       [ 6.45251334e-01],\n",
       "       [ 7.18895555e-01],\n",
       "       [ 7.77682364e-01],\n",
       "       [ 7.93909371e-01],\n",
       "       [ 7.89642155e-01],\n",
       "       [ 7.74110973e-01],\n",
       "       [ 7.57742703e-01],\n",
       "       [ 7.65406251e-01],\n",
       "       [ 7.47433782e-01],\n",
       "       [ 7.42133081e-01],\n",
       "       [ 7.67041445e-01],\n",
       "       [ 7.97246277e-01],\n",
       "       [ 8.05322230e-01],\n",
       "       [ 8.32593083e-01],\n",
       "       [ 8.58697832e-01],\n",
       "       [ 8.81280363e-01],\n",
       "       [ 8.91582072e-01],\n",
       "       [ 8.84932041e-01],\n",
       "       [ 8.71974945e-01],\n",
       "       [ 8.72919858e-01],\n",
       "       [ 8.70910823e-01],\n",
       "       [ 8.74004185e-01],\n",
       "       [ 8.71261656e-01],\n",
       "       [ 8.73977482e-01],\n",
       "       [ 8.73027444e-01],\n",
       "       [ 8.71513486e-01],\n",
       "       [ 8.84082675e-01],\n",
       "       [ 8.47434103e-01],\n",
       "       [ 8.74647319e-01],\n",
       "       [ 8.96152735e-01],\n",
       "       [ 9.22165036e-01],\n",
       "       [ 9.33629572e-01],\n",
       "       [ 9.38076079e-01],\n",
       "       [ 9.32268918e-01],\n",
       "       [ 9.42399800e-01],\n",
       "       [ 9.46995497e-01],\n",
       "       [ 9.67856705e-01],\n",
       "       [ 9.92264807e-01],\n",
       "       [ 1.00591516e+00],\n",
       "       [ 1.00227273e+00],\n",
       "       [ 9.99463022e-01],\n",
       "       [ 1.00195730e+00],\n",
       "       [ 1.00539958e+00],\n",
       "       [ 1.00594342e+00],\n",
       "       [ 1.00663412e+00],\n",
       "       [ 1.00469744e+00],\n",
       "       [ 1.00494075e+00],\n",
       "       [ 1.00635934e+00],\n",
       "       [ 1.00918531e+00],\n",
       "       [ 1.00764048e+00],\n",
       "       [ 1.01229894e+00],\n",
       "       [ 1.01040912e+00],\n",
       "       [ 9.96810853e-01],\n",
       "       [ 9.89502192e-01],\n",
       "       [ 1.00514328e+00],\n",
       "       [ 1.01426315e+00],\n",
       "       [ 9.75745618e-01],\n",
       "       [ 9.34314668e-01],\n",
       "       [ 8.98956954e-01],\n",
       "       [ 8.65655601e-01],\n",
       "       [ 8.19306195e-01],\n",
       "       [ 7.24462807e-01],\n",
       "       [ 6.85823202e-01],\n",
       "       [ 6.63686037e-01],\n",
       "       [ 6.13982975e-01],\n",
       "       [ 5.91909289e-01]], dtype=float32)"
      ]
     },
     "execution_count": 27,
     "metadata": {},
     "output_type": "execute_result"
    }
   ],
   "source": [
    "xhat = model_lstm.predict(features_set)\n",
    "xhat"
   ]
  },
  {
   "cell_type": "code",
   "execution_count": 28,
   "metadata": {
    "scrolled": true
   },
   "outputs": [
    {
     "data": {
      "text/plain": [
       "pandas.core.series.Series"
      ]
     },
     "execution_count": 28,
     "metadata": {},
     "output_type": "execute_result"
    }
   ],
   "source": [
    "len(xtPriceOnly)\n",
    "type(xtPriceOnly)"
   ]
  },
  {
   "cell_type": "code",
   "execution_count": 29,
   "metadata": {
    "scrolled": false
   },
   "outputs": [
    {
     "data": {
      "image/png": "[encoded data removed]",
      "text/plain": [
       "<Figure size 1152x720 with 1 Axes>"
      ]
     },
     "metadata": {
      "needs_background": "light"
     },
     "output_type": "display_data"
    }
   ],
   "source": [
    "#Graph resulting fundamental price prediction\n",
    "#Default window size shows all periods\n",
    "#Default custom window size is 52 (one year under weekly)\n",
    "\n",
    "window_is_smaller_than_full_dataset = False\n",
    "window_size_in_periods = 52\n",
    "\n",
    "if window_is_smaller_than_full_dataset:\n",
    "    window = np.arange(len(xt) - window_size_in_periods,len(xt))\n",
    "else:    \n",
    "    window = np.arange(0,len(xt))\n",
    "\n",
    "plt.figure(figsize=(16,10))\n",
    "plt.title(Title + \": \" + str(n_timesteps) + \" weeks ahead predictions by LSTM net\",fontsize=16)\n",
    "\n",
    "plt.axvline(x= (xt.shape[0])-1,linestyle=':',color='k')\n",
    "plt.plot(xtPriceOnly.index[window],xtPriceOnly[window], linestyle=':', marker='o',color='red',label = \"$x_t$\")\n",
    "plt.plot(xtPriceOnly.index[window],xhat[window-n_timesteps], linestyle=':', marker='o',color='gray',label = \"$\\hat{x}_t$\")\n",
    "\n",
    "plt.grid(True)\n",
    "plt.legend(loc = 'lower left',fontsize=16)\n",
    "plt.show()\n",
    "\n",
    "#real price is always red"
   ]
  },
  {
   "cell_type": "code",
   "execution_count": null,
   "metadata": {
    "scrolled": true
   },
   "outputs": [],
   "source": []
  },
  {
   "cell_type": "code",
   "execution_count": null,
   "metadata": {
    "scrolled": true
   },
   "outputs": [],
   "source": []
  }
 ],
 "metadata": {
  "kernelspec": {
   "display_name": "Python 3",
   "language": "python",
   "name": "python3"
  },
  "language_info": {
   "codemirror_mode": {
    "name": "ipython",
    "version": 3
   },
   "file_extension": ".py",
   "mimetype": "text/x-python",
   "name": "python",
   "nbconvert_exporter": "python",
   "pygments_lexer": "ipython3",
   "version": "3.8.5"
  }
 },
 "nbformat": 4,
 "nbformat_minor": 4
}
