{
 "cells": [
  {
   "cell_type": "markdown",
   "metadata": {},
   "source": [
    " ## CRYPTOCURRENCY PRICE FUNDAMENTALS PREDICTION VIA LSTM NETWORK\n",
    " ## MODEL TWO, PRICE NO LONGER AN INPUT\n",
    "## BY JAMES BURNS\n",
    "**FOR PROFESSOR KUROCHKIN AND TAS:   \n",
    "CSCI S-89 2021**"
   ]
  },
  {
   "cell_type": "markdown",
   "metadata": {},
   "source": [
    "An analysis based primarily on the work:\n",
    "\n",
    "\"The fundamental drivers of cryptocurrency prices\"\n",
    "Siddharth Bhambhwani, Stefanos Delikouras, George Korniotis 24 August 2019\n",
    "https://voxeu.org/article/fundamental-drivers-cryptocurrency-prices"
   ]
  },
  {
   "cell_type": "code",
   "execution_count": 1,
   "metadata": {
    "scrolled": true
   },
   "outputs": [],
   "source": [
    "import json\n",
    "import numpy as np\n",
    "import matplotlib.pyplot as plt\n",
    "import pandas as pd\n",
    "import requests\n",
    "import datetime\n",
    "import statsmodels.api as smt\n",
    "import time\n",
    "#stats models OLS tutorial https://www.geeksforgeeks.org/ordinary-least-squares-ols-using-statsmodels/\n",
    "#Data analysis packages learned from DGMD S-14 Prof.Jose Ramirez Herran, Harvard Summer School\n",
    "\n",
    "#Patch for dataframe to handle large numbers https://stackoverflow.com/questions/61732956/pandas-read-json-with-int64-values-raises-valueerror-value-is-too-big\n",
    "pd.io.json._json.loads = lambda s, *a, **kw: json.loads(s)"
   ]
  },
  {
   "cell_type": "code",
   "execution_count": 2,
   "metadata": {
    "scrolled": true
   },
   "outputs": [],
   "source": [
    "#Set up default API values\n",
    "Price = \"https://api.glassnode.com/v1/metrics/market/price_usd_close\"\n",
    "Hashrate = \"https://api.glassnode.com/v1/metrics/mining/hash_rate_mean\"\n",
    "Accounts = \"https://api.glassnode.com/v1/metrics/addresses/active_count\"\n",
    "#Three tokens available\n",
    "Token = \"ETH\" #BTC or ETH or LTC\n",
    "#Year start UNIX timestamps, represent January 1st\n",
    "Year_2021 = \"1609459200\"\n",
    "Year_2020 = \"1577854800\"\n",
    "Year_2019 = \"1546300800\"\n",
    "Year_2018 = \"1514764800\"\n",
    "Year_2017 = \"1483228800\"\n",
    "Year_2016 = \"1451606400\"\n",
    "#Choose your default start year\n",
    "Data_start_year = Year_2018\n",
    "#Choose your default frequency eg \"1w\" or \"24h\"\n",
    "Data_frequency = \"24h\"\n",
    "#Choose to log price data by base e\n",
    "Natural_log = False"
   ]
  },
  {
   "cell_type": "code",
   "execution_count": 3,
   "metadata": {
    "scrolled": true
   },
   "outputs": [],
   "source": [
    "def Pull_blockchain_data(token, data_start_year, data_end, data_frequency, data_type, natural_log = False):\n",
    "    '''\n",
    "    Portions of code from glassnode API documentation \n",
    "    https://docs.glassnode.com/basic-api/api-key#example-using-python\n",
    "    requests,json,pandas already imported\n",
    "    natural_log takes the log_e of data, boolean. Default is FALSE.\n",
    "    '''\n",
    "    API_KEY = '1rScABdwvd1vnOtqt4FWaI9pdeU'\n",
    "    '''\n",
    "    Make API request\n",
    "    a is your ticker (BTC or ETH or LTC)\n",
    "    s is timestamp start\n",
    "    i is frequency, code default is daily, 1w is weekly\n",
    "    '''\n",
    "    res = requests.get(data_type,\n",
    "        params={'a': token, 'api_key': API_KEY, 's':data_start_year, 'u':data_end,'i': data_frequency})\n",
    "    # convert to pandas dataframe\n",
    "    df = pd.read_json(res.text, convert_dates=['t'])\n",
    "    \n",
    "    logarithmic = \"\"\n",
    "    #Loge data transformation\n",
    "    if natural_log:\n",
    "        df['v'] = np.log(df['v'])\n",
    "        logarithmic = \"Log_e \"\n",
    "    \n",
    "    #creates title with currency and data start year\n",
    "    global Title\n",
    "    Title = logarithmic + token + \" since \" + datetime.datetime.utcfromtimestamp(int(data_start_year)).strftime('%Y')\n",
    "        \n",
    "    #timestamp change https://stackoverflow.com/questions/3682748/converting-unix-timestamp-string-to-readable-date\n",
    "    return df\n"
   ]
  },
  {
   "cell_type": "code",
   "execution_count": 4,
   "metadata": {
    "scrolled": true
   },
   "outputs": [],
   "source": [
    "def normalize(df):\n",
    "    '''\n",
    "    Built for data from glassnode\n",
    "    \n",
    "    Takes natural log of raw data\n",
    "    Subtracts mean of logged data from result\n",
    "    Subtracts standard deviation of mean subtracted data\n",
    "    Returns normalized data column\n",
    "    Method from Bhambhwani et al.\n",
    "    '''\n",
    "    df['v'] = np.log(df['v'])\n",
    "    df['v'] = ((df['v']) - df['v'].mean())\n",
    "    df['v'] = ((df['v']) / df['v'].std())\n",
    "    \n",
    "    return df\n"
   ]
  },
  {
   "cell_type": "code",
   "execution_count": 5,
   "metadata": {
    "scrolled": true
   },
   "outputs": [],
   "source": [
    "def build_dataframe(token, data_start_year, data_frequency, data_end = int(time.time())):\n",
    "    '''\n",
    "    Collects the price, hashrate, and accounts\n",
    "    Combines into one frame\n",
    "    '''\n",
    "    dfp = normalize(Pull_blockchain_data(token, data_start_year, data_end, data_frequency, Price))\n",
    "    dfh = normalize(Pull_blockchain_data(token, data_start_year, data_end, data_frequency, Hashrate))\n",
    "    dfa = normalize(Pull_blockchain_data(token, data_start_year, data_end, data_frequency, Accounts))\n",
    "    \n",
    "    #change frame name for graphing\n",
    "    dfp['p'] = dfp['v']\n",
    "    dfh['h'] = dfh['v']\n",
    "    dfa['a'] = dfa['v']\n",
    "    \n",
    "    frames = [dfp['t'],dfp['p'],dfh['h'],dfa['a']]\n",
    "    df = pd.concat(frames, axis = 1)\n",
    "    if data_frequency == \"24h\":\n",
    "        df.drop(df.tail(1).index,inplace=True) # drop last row (tomorrow's data)\n",
    "    \n",
    "    # deleting last row NaN https://stackoverflow.com/questions/26921651/how-to-delete-the-last-row-of-data-of-a-pandas-dataframe\n",
    "    # pandas documentaion https://pandas.pydata.org/pandas-docs/stable/user_guide/merging.html\n",
    "    return df"
   ]
  },
  {
   "cell_type": "code",
   "execution_count": 6,
   "metadata": {
    "scrolled": true
   },
   "outputs": [],
   "source": [
    "def plot_price_hashrate(df):\n",
    "    x = df['t']\n",
    "    y1 = df['p']\n",
    "    y2 = df['h']\n",
    "    \n",
    "    \n",
    "    plt.figure(num = 1, facecolor = 'powderblue', figsize=(12,5))\n",
    "    plt.plot(x,y2)\n",
    "    plt.plot(x,y1,\n",
    "        color='red',\n",
    "        linestyle='--'\n",
    "        ) #price is always red line\n",
    "    plt.title(Title, size = 24)\n",
    "    plt.ylabel(\"Normalized Price & Hashrate\")\n",
    "    plt.xlabel(\"Time\")\n",
    "    \n",
    "    plt.show()\n",
    "    \n",
    "    #labels for plot https://www.w3schools.com/python/matplotlib_labels.asp\n",
    "    #https://matplotlib.org/stable/api/_as_gen/matplotlib.pyplot.figure.html"
   ]
  },
  {
   "cell_type": "code",
   "execution_count": 7,
   "metadata": {
    "scrolled": true
   },
   "outputs": [],
   "source": [
    "def plot_price_accounts(df):\n",
    "    x = df['t']\n",
    "    y1 = df['p']\n",
    "    y2 = df['a']\n",
    "\n",
    "    plt.figure(num = 2, facecolor = 'tan', figsize=(12,5))\n",
    "    plt.plot(x,y2)\n",
    "    plt.plot(x,y1,\n",
    "        color='red',\n",
    "        linestyle='--'\n",
    "        ) #price is always red line\n",
    "    plt.title(Title, size = 24)\n",
    "    plt.ylabel(\"Normalized Price & Active Accounts\")\n",
    "    plt.xlabel(\"Time\")\n",
    "    \n",
    "    plt.show()\n",
    "    \n",
    "    #labels for plot https://www.w3schools.com/python/matplotlib_labels.asp\n",
    "    #https://matplotlib.org/stable/api/_as_gen/matplotlib.pyplot.figure.html"
   ]
  },
  {
   "cell_type": "code",
   "execution_count": 8,
   "metadata": {
    "scrolled": true
   },
   "outputs": [],
   "source": [
    "#Builds dataframe from API and processes data\n",
    "#Args are token, start year, frequency, (and optional end year)\n",
    "\n",
    "df = build_dataframe(\"BTC\", Year_2017, \"1w\")"
   ]
  },
  {
   "cell_type": "code",
   "execution_count": 9,
   "metadata": {
    "scrolled": true
   },
   "outputs": [
    {
     "data": {
      "text/html": [
       "<div>\n",
       "<style scoped>\n",
       "    .dataframe tbody tr th:only-of-type {\n",
       "        vertical-align: middle;\n",
       "    }\n",
       "\n",
       "    .dataframe tbody tr th {\n",
       "        vertical-align: top;\n",
       "    }\n",
       "\n",
       "    .dataframe thead th {\n",
       "        text-align: right;\n",
       "    }\n",
       "</style>\n",
       "<table border=\"1\" class=\"dataframe\">\n",
       "  <thead>\n",
       "    <tr style=\"text-align: right;\">\n",
       "      <th></th>\n",
       "      <th>t</th>\n",
       "      <th>p</th>\n",
       "      <th>h</th>\n",
       "      <th>a</th>\n",
       "    </tr>\n",
       "  </thead>\n",
       "  <tbody>\n",
       "    <tr>\n",
       "      <th>253</th>\n",
       "      <td>2021-11-01</td>\n",
       "      <td>1.890650</td>\n",
       "      <td>1.065627</td>\n",
       "      <td>1.007833</td>\n",
       "    </tr>\n",
       "    <tr>\n",
       "      <th>254</th>\n",
       "      <td>2021-11-08</td>\n",
       "      <td>1.922079</td>\n",
       "      <td>1.054120</td>\n",
       "      <td>0.989886</td>\n",
       "    </tr>\n",
       "    <tr>\n",
       "      <th>255</th>\n",
       "      <td>2021-11-15</td>\n",
       "      <td>1.817678</td>\n",
       "      <td>1.057015</td>\n",
       "      <td>0.913338</td>\n",
       "    </tr>\n",
       "    <tr>\n",
       "      <th>256</th>\n",
       "      <td>2021-11-22</td>\n",
       "      <td>1.793440</td>\n",
       "      <td>1.028346</td>\n",
       "      <td>0.719642</td>\n",
       "    </tr>\n",
       "    <tr>\n",
       "      <th>257</th>\n",
       "      <td>2021-11-29</td>\n",
       "      <td>1.647261</td>\n",
       "      <td>1.085652</td>\n",
       "      <td>1.209975</td>\n",
       "    </tr>\n",
       "  </tbody>\n",
       "</table>\n",
       "</div>"
      ],
      "text/plain": [
       "             t         p         h         a\n",
       "253 2021-11-01  1.890650  1.065627  1.007833\n",
       "254 2021-11-08  1.922079  1.054120  0.989886\n",
       "255 2021-11-15  1.817678  1.057015  0.913338\n",
       "256 2021-11-22  1.793440  1.028346  0.719642\n",
       "257 2021-11-29  1.647261  1.085652  1.209975"
      ]
     },
     "execution_count": 9,
     "metadata": {},
     "output_type": "execute_result"
    }
   ],
   "source": [
    "#data sample\n",
    "df.tail()"
   ]
  },
  {
   "cell_type": "code",
   "execution_count": 10,
   "metadata": {
    "scrolled": true
   },
   "outputs": [
    {
     "data": {
      "image/png": "[encoded data removed]",
      "text/plain": [
       "<Figure size 864x360 with 1 Axes>"
      ]
     },
     "metadata": {},
     "output_type": "display_data"
    }
   ],
   "source": [
    "plot_price_hashrate(df)"
   ]
  },
  {
   "cell_type": "code",
   "execution_count": 11,
   "metadata": {
    "scrolled": true
   },
   "outputs": [
    {
     "data": {
      "image/png": "[encoded data removed]",
      "text/plain": [
       "<Figure size 864x360 with 1 Axes>"
      ]
     },
     "metadata": {},
     "output_type": "display_data"
    }
   ],
   "source": [
    "plot_price_accounts(df)"
   ]
  },
  {
   "cell_type": "code",
   "execution_count": 12,
   "metadata": {
    "scrolled": true
   },
   "outputs": [],
   "source": [
    "#Use if regression fails due to nan value (data source value for incomplete day/week)\n",
    "df.drop(df.tail(1).index,inplace=True)"
   ]
  },
  {
   "cell_type": "code",
   "execution_count": 13,
   "metadata": {
    "scrolled": true
   },
   "outputs": [
    {
     "name": "stdout",
     "output_type": "stream",
     "text": [
      "                            OLS Regression Results                            \n",
      "==============================================================================\n",
      "Dep. Variable:                      p   R-squared:                       0.759\n",
      "Model:                            OLS   Adj. R-squared:                  0.758\n",
      "Method:                 Least Squares   F-statistic:                     401.0\n",
      "Date:                Sun, 12 Dec 2021   Prob (F-statistic):           2.56e-79\n",
      "Time:                        16:03:15   Log-Likelihood:                -180.20\n",
      "No. Observations:                 257   AIC:                             366.4\n",
      "Df Residuals:                     254   BIC:                             377.0\n",
      "Df Model:                           2                                         \n",
      "Covariance Type:            nonrobust                                         \n",
      "==============================================================================\n",
      "                 coef    std err          t      P>|t|      [0.025      0.975]\n",
      "------------------------------------------------------------------------------\n",
      "const         -0.0019      0.031     -0.063      0.950      -0.062       0.058\n",
      "h              0.6005      0.034     17.505      0.000       0.533       0.668\n",
      "a              0.4146      0.034     12.079      0.000       0.347       0.482\n",
      "==============================================================================\n",
      "Omnibus:                       27.415   Durbin-Watson:                   0.093\n",
      "Prob(Omnibus):                  0.000   Jarque-Bera (JB):               10.955\n",
      "Skew:                           0.266   Prob(JB):                      0.00418\n",
      "Kurtosis:                       2.140   Cond. No.                         1.62\n",
      "==============================================================================\n",
      "\n",
      "Notes:\n",
      "[1] Standard Errors assume that the covariance matrix of the errors is correctly specified.\n"
     ]
    }
   ],
   "source": [
    "'''\n",
    "Statsmodels OLS Analysis https://www.geeksforgeeks.org/ordinary-least-squares-ols-using-statsmodels/\n",
    "Statsmodels multiple regression https://www.datarobot.com/blog/multiple-regression-using-statsmodels/\n",
    "Statsmodels documentaion for linear OLS https://www.statsmodels.org/stable/generated/statsmodels.regression.linear_model.OLS.html\n",
    "\n",
    "Ordinary Least Squares method used to follow Bhambhwani et al.\n",
    "High R-squared suggests strong correlation between fundamental factors and price\n",
    "'''\n",
    "\n",
    "#normalized dataframe already made\n",
    "#define variables, hashrate and active_accounts as independent, price as dependent\n",
    "x = df[['h', 'a']]\n",
    "y = df['p']\n",
    "\n",
    "#add constant term\n",
    "x = smt.add_constant(x)\n",
    "\n",
    "# performing the regression, fitting the model\n",
    "result = smt.OLS(y, x).fit()\n",
    "  \n",
    "print(result.summary())"
   ]
  },
  {
   "cell_type": "markdown",
   "metadata": {},
   "source": [
    "# Part II: LSTM Network"
   ]
  },
  {
   "cell_type": "code",
   "execution_count": 14,
   "metadata": {
    "scrolled": true
   },
   "outputs": [],
   "source": [
    "from statsmodels.graphics.tsaplots import plot_acf, plot_pacf \n",
    "from statsmodels.tsa.stattools import acf, pacf\n",
    "\n",
    "from pandas import DataFrame\n",
    "from pandas import concat\n",
    "\n",
    "import keras\n",
    "from keras import optimizers\n",
    "import tensorflow as tf\n",
    "from tensorflow.keras import layers\n",
    "from tensorflow.keras import models\n",
    "from tensorflow.keras.models import Sequential\n",
    "from tensorflow.keras.layers import Dense, Dropout, LSTM, BatchNormalization\n",
    "from tensorflow.keras.callbacks import TensorBoard\n",
    "from tensorflow.keras.callbacks import ModelCheckpoint\n",
    "\n",
    "#df data imported, normalized above\n",
    "#df is [time, price, hashrate, activeAccounts] as df = [t,p,h,a]\n",
    "\n",
    "xt = df\n",
    "xt = xt.reset_index(drop=True)"
   ]
  },
  {
   "cell_type": "code",
   "execution_count": 15,
   "metadata": {
    "scrolled": true
   },
   "outputs": [],
   "source": [
    "xt = xt.to_numpy()"
   ]
  },
  {
   "cell_type": "code",
   "execution_count": 16,
   "metadata": {
    "scrolled": true
   },
   "outputs": [
    {
     "data": {
      "text/plain": [
       "array([[Timestamp('2016-12-26 00:00:00'), -2.1226926989845167,\n",
       "        -2.4034491378280958, -1.3990383421051027],\n",
       "       [Timestamp('2017-01-02 00:00:00'), -2.199350931620423,\n",
       "        -2.3882028648465843, -0.9030856086515217],\n",
       "       [Timestamp('2017-01-09 00:00:00'), -2.300942841007063,\n",
       "        -2.3326225442318607, -1.3233769719260229],\n",
       "       ...,\n",
       "       [Timestamp('2021-11-08 00:00:00'), 1.922078513264393,\n",
       "        1.0541203959470606, 0.9898863876245186],\n",
       "       [Timestamp('2021-11-15 00:00:00'), 1.8176780997458386,\n",
       "        1.0570154801382707, 0.9133383463831831],\n",
       "       [Timestamp('2021-11-22 00:00:00'), 1.793439783323967,\n",
       "        1.0283455277542364, 0.7196416962087016]], dtype=object)"
      ]
     },
     "execution_count": 16,
     "metadata": {},
     "output_type": "execute_result"
    }
   ],
   "source": [
    "xt"
   ]
  },
  {
   "cell_type": "code",
   "execution_count": 17,
   "metadata": {
    "scrolled": true
   },
   "outputs": [
    {
     "data": {
      "text/plain": [
       "(257, 4)"
      ]
     },
     "execution_count": 17,
     "metadata": {},
     "output_type": "execute_result"
    }
   ],
   "source": [
    "xt.shape"
   ]
  },
  {
   "cell_type": "code",
   "execution_count": 18,
   "metadata": {
    "scrolled": true
   },
   "outputs": [],
   "source": [
    "#Convert data into 3d array of \n",
    "# shape (observations over time, n_timesteps, n_vars)\n",
    "\n",
    "n_timesteps = 8\n",
    "\n",
    "features_set_price = []\n",
    "labels_price = []\n",
    "for i in range(n_timesteps, xt.shape[0]):\n",
    "    features_set_price.append(xt[i-n_timesteps:i,1]) #prices\n",
    "    labels_price.append(xt[i,1])\n",
    "\n",
    "features_set_hash = []\n",
    "labels_hash = []\n",
    "for i in range(n_timesteps, xt.shape[0]):\n",
    "    features_set_hash.append(xt[i-n_timesteps:i,2]) \n",
    "    labels_hash.append(xt[i,2])\n",
    "    \n",
    "features_set_accounts = []\n",
    "labels_accounts = []\n",
    "for i in range(n_timesteps, xt.shape[0]):\n",
    "    features_set_accounts.append(xt[i-n_timesteps:i,3])\n",
    "    labels_accounts.append(xt[i,3])  "
   ]
  },
  {
   "cell_type": "code",
   "execution_count": 19,
   "metadata": {
    "scrolled": true
   },
   "outputs": [
    {
     "data": {
      "text/plain": [
       "(249, 8, 2)"
      ]
     },
     "execution_count": 19,
     "metadata": {},
     "output_type": "execute_result"
    }
   ],
   "source": [
    "# Combine features_set variables into a single tensor\n",
    "features_set_price, features_set_hash, features_set_accounts = np.array(features_set_price, dtype=np.float), np.array(features_set_hash, dtype=np.float), np.array(features_set_accounts, dtype=np.float)\n",
    "\n",
    "labels_price,labels_hash,labels_accounts = np.array(labels_price, dtype=np.float), np.array(labels_hash, dtype=np.float), np.array(labels_accounts, dtype=np.float)\n",
    "\n",
    "features_set = np.zeros((len(xt) - n_timesteps, n_timesteps, 2))\n",
    "features_set[:, :, 0] = features_set_hash\n",
    "features_set[:, :, 1] = features_set_accounts\n",
    "features_set.shape"
   ]
  },
  {
   "cell_type": "code",
   "execution_count": 20,
   "metadata": {
    "scrolled": true
   },
   "outputs": [
    {
     "data": {
      "text/plain": [
       "(249, 2)"
      ]
     },
     "execution_count": 20,
     "metadata": {},
     "output_type": "execute_result"
    }
   ],
   "source": [
    "# Combine labels for each variable into a single tensor\n",
    "labels = np.zeros((len(xt) - n_timesteps, 2))\n",
    "labels[:, 0] = labels_hash\n",
    "labels[:, 1] = labels_accounts\n",
    "labels.shape"
   ]
  },
  {
   "cell_type": "code",
   "execution_count": 21,
   "metadata": {
    "scrolled": true
   },
   "outputs": [
    {
     "data": {
      "text/plain": [
       "pandas.core.series.Series"
      ]
     },
     "execution_count": 21,
     "metadata": {},
     "output_type": "execute_result"
    }
   ],
   "source": [
    "# Creates a variable that represents price only for graphing later\n",
    "xtPriceOnly = []\n",
    "\n",
    "for i in range(0, xt.shape[0]):\n",
    "    xtPriceOnly.append(xt[i,1]) #prices, removed i - num timestamps\n",
    "\n",
    "xtPriceOnly = pd.Series(xtPriceOnly)\n",
    "type(xtPriceOnly)"
   ]
  },
  {
   "cell_type": "code",
   "execution_count": 22,
   "metadata": {
    "scrolled": true
   },
   "outputs": [
    {
     "name": "stdout",
     "output_type": "stream",
     "text": [
      "features_set_train.shape is  (199, 8, 2)\n",
      "labels_train.shape is  (199, 2)\n",
      "\n",
      "features_set_test.shape is  (50, 8, 2)\n",
      "labels_test.shape is  (50, 2)\n"
     ]
    }
   ],
   "source": [
    "# split into train and test sets\n",
    "n = features_set.shape[0]\n",
    "n_train = int(n * 0.80)\n",
    "n_test = n - n_train\n",
    "#print(\"n_train = \",str(n_train))\n",
    "#print(\"n_test = \",str(n_test))\n",
    "\n",
    "features_set_train, features_set_test =  features_set[0:n_train,:,:], features_set[n_train:n,:,:]\n",
    "labels_train, labels_test =  labels[0:n_train], labels[n_train:n]\n",
    "\n",
    "print(\"features_set_train.shape is \", features_set_train.shape)\n",
    "print(\"labels_train.shape is \", labels_train.shape)\n",
    "print(\"\\nfeatures_set_test.shape is \", features_set_test.shape)\n",
    "print(\"labels_test.shape is \", labels_test.shape)"
   ]
  },
  {
   "cell_type": "code",
   "execution_count": 23,
   "metadata": {
    "scrolled": true
   },
   "outputs": [
    {
     "name": "stdout",
     "output_type": "stream",
     "text": [
      "features:\n"
     ]
    },
    {
     "data": {
      "text/plain": [
       "array([[-2.40344914, -2.38820286, -2.33262254, -2.25686503, -2.2164694 ,\n",
       "        -2.19969728, -2.20552449, -2.16554041],\n",
       "       [-2.38820286, -2.33262254, -2.25686503, -2.2164694 , -2.19969728,\n",
       "        -2.20552449, -2.16554041, -2.11909925]])"
      ]
     },
     "metadata": {},
     "output_type": "display_data"
    },
    {
     "name": "stdout",
     "output_type": "stream",
     "text": [
      "labels:\n"
     ]
    },
    {
     "data": {
      "text/plain": [
       "array([[-2.11909925, -0.83480731],\n",
       "       [-2.14799536, -0.79909414]])"
      ]
     },
     "metadata": {},
     "output_type": "display_data"
    }
   ],
   "source": [
    "#Show data structure\n",
    "print(\"features:\")\n",
    "display(features_set_train[0:2,:,0])\n",
    "print(\"labels:\")\n",
    "display(labels_train[0:2])"
   ]
  },
  {
   "cell_type": "code",
   "execution_count": 24,
   "metadata": {
    "scrolled": true
   },
   "outputs": [
    {
     "name": "stdout",
     "output_type": "stream",
     "text": [
      "Model: \"sequential\"\n",
      "_________________________________________________________________\n",
      "Layer (type)                 Output Shape              Param #   \n",
      "=================================================================\n",
      "lstm (LSTM)                  (None, 20)                1840      \n",
      "_________________________________________________________________\n",
      "dropout (Dropout)            (None, 20)                0         \n",
      "_________________________________________________________________\n",
      "dense (Dense)                (None, 1)                 21        \n",
      "=================================================================\n",
      "Total params: 1,861\n",
      "Trainable params: 1,861\n",
      "Non-trainable params: 0\n",
      "_________________________________________________________________\n"
     ]
    }
   ],
   "source": [
    "#Build LSTM Model\n",
    "\n",
    "n_features = 2\n",
    "#timestamps variable above\n",
    "\n",
    "import tensorflow\n",
    "import tensorflow.keras.layers\n",
    "\n",
    "model_lstm = models.Sequential()\n",
    "model_lstm.add(layers.LSTM(20, input_shape=(n_timesteps,n_features))) #more variables here?\n",
    "model_lstm.add(Dropout(0.2))\n",
    "model_lstm.add(layers.Dense(1, activation = 'linear'))\n",
    "\n",
    "model_lstm.summary()"
   ]
  },
  {
   "cell_type": "code",
   "execution_count": 25,
   "metadata": {
    "scrolled": true
   },
   "outputs": [
    {
     "name": "stdout",
     "output_type": "stream",
     "text": [
      "Epoch 1/25\n",
      "199/199 [==============================] - 2s 4ms/step - loss: 0.6799 - val_loss: 0.5200\n",
      "Epoch 2/25\n",
      "199/199 [==============================] - 0s 2ms/step - loss: 0.5268 - val_loss: 0.3629\n",
      "Epoch 3/25\n",
      "199/199 [==============================] - 0s 2ms/step - loss: 0.4509 - val_loss: 0.2877\n",
      "Epoch 4/25\n",
      "199/199 [==============================] - 0s 2ms/step - loss: 0.4165 - val_loss: 0.2541\n",
      "Epoch 5/25\n",
      "199/199 [==============================] - 0s 2ms/step - loss: 0.4092 - val_loss: 0.2260\n",
      "Epoch 6/25\n",
      "199/199 [==============================] - 0s 2ms/step - loss: 0.4061 - val_loss: 0.2137\n",
      "Epoch 7/25\n",
      "199/199 [==============================] - 0s 2ms/step - loss: 0.3817 - val_loss: 0.2093\n",
      "Epoch 8/25\n",
      "199/199 [==============================] - 0s 2ms/step - loss: 0.3999 - val_loss: 0.1995\n",
      "Epoch 9/25\n",
      "199/199 [==============================] - 1s 3ms/step - loss: 0.3870 - val_loss: 0.1971\n",
      "Epoch 10/25\n",
      "199/199 [==============================] - 1s 3ms/step - loss: 0.3907 - val_loss: 0.1896\n",
      "Epoch 11/25\n",
      "199/199 [==============================] - 1s 3ms/step - loss: 0.3975 - val_loss: 0.1862\n",
      "Epoch 12/25\n",
      "199/199 [==============================] - 0s 2ms/step - loss: 0.3849 - val_loss: 0.1856\n",
      "Epoch 13/25\n",
      "199/199 [==============================] - 0s 2ms/step - loss: 0.3919 - val_loss: 0.1860\n",
      "Epoch 14/25\n",
      "199/199 [==============================] - 0s 2ms/step - loss: 0.3794 - val_loss: 0.1823\n",
      "Epoch 15/25\n",
      "199/199 [==============================] - 0s 2ms/step - loss: 0.3726 - val_loss: 0.1819\n",
      "Epoch 16/25\n",
      "199/199 [==============================] - 0s 2ms/step - loss: 0.3883 - val_loss: 0.1788\n",
      "Epoch 17/25\n",
      "199/199 [==============================] - 0s 2ms/step - loss: 0.3855 - val_loss: 0.1742\n",
      "Epoch 18/25\n",
      "199/199 [==============================] - 0s 2ms/step - loss: 0.3737 - val_loss: 0.1726\n",
      "Epoch 19/25\n",
      "199/199 [==============================] - 0s 2ms/step - loss: 0.3768 - val_loss: 0.1699\n",
      "Epoch 20/25\n",
      "199/199 [==============================] - 0s 2ms/step - loss: 0.3679 - val_loss: 0.1684\n",
      "Epoch 21/25\n",
      "199/199 [==============================] - 0s 2ms/step - loss: 0.3734 - val_loss: 0.1652\n",
      "Epoch 22/25\n",
      "199/199 [==============================] - 0s 2ms/step - loss: 0.3788 - val_loss: 0.1658\n",
      "Epoch 23/25\n",
      "199/199 [==============================] - 0s 2ms/step - loss: 0.3792 - val_loss: 0.1613\n",
      "Epoch 24/25\n",
      "199/199 [==============================] - 0s 2ms/step - loss: 0.3723 - val_loss: 0.1599\n",
      "Epoch 25/25\n",
      "199/199 [==============================] - 0s 2ms/step - loss: 0.3784 - val_loss: 0.1583\n"
     ]
    }
   ],
   "source": [
    "#Train\n",
    "nepochs = 25\n",
    "\n",
    "opt = tf.keras.optimizers.Adam(learning_rate=0.0001) \n",
    "#divide lr if not working\n",
    "\n",
    "model_lstm.compile(loss='mse',optimizer= opt)\n",
    "\n",
    "history = model_lstm.fit(features_set_train, labels_train,\n",
    "          epochs=nepochs,\n",
    "          batch_size=1,\n",
    "          validation_data=(features_set_test, labels_test))\n",
    "history = history.history"
   ]
  },
  {
   "cell_type": "code",
   "execution_count": 26,
   "metadata": {
    "scrolled": false
   },
   "outputs": [
    {
     "data": {
      "text/plain": [
       "<Figure size 432x288 with 0 Axes>"
      ]
     },
     "metadata": {},
     "output_type": "display_data"
    },
    {
     "data": {
      "image/png": "[encoded data removed]",
      "text/plain": [
       "<Figure size 1152x432 with 1 Axes>"
      ]
     },
     "metadata": {
      "needs_background": "light"
     },
     "output_type": "display_data"
    }
   ],
   "source": [
    "plt.clf()   # clear figure\n",
    "train_mse = history['loss']\n",
    "test_mse = history['val_loss']\n",
    "\n",
    "plt.figure(figsize=(16,6))\n",
    "plt.plot(range(1,nepochs+1), train_mse, 'b', label='train MSE',color=\"blue\")\n",
    "plt.plot(range(1,nepochs+1), test_mse, 'b', label='test MSE',color=\"red\")\n",
    "\n",
    "#plt.ylim((0, 0.0001))\n",
    "plt.title('LSTM net: min(test MSE) = ' + str(round(min(test_mse),6)),fontsize=16)\n",
    "plt.xlabel('Epochs',fontsize=16)\n",
    "plt.ylabel('MSE',fontsize=16)\n",
    "plt.legend(loc = 'upper right',fontsize=16)\n",
    "#plt.ylim(0,0.001)\n",
    "\n",
    "plt.show()"
   ]
  },
  {
   "cell_type": "code",
   "execution_count": 27,
   "metadata": {
    "scrolled": true
   },
   "outputs": [
    {
     "data": {
      "text/plain": [
       "array([[-1.29638016e+00],\n",
       "       [-1.27698982e+00],\n",
       "       [-1.25620091e+00],\n",
       "       [-1.24119174e+00],\n",
       "       [-1.22056639e+00],\n",
       "       [-1.23845792e+00],\n",
       "       [-1.25770867e+00],\n",
       "       [-1.24527049e+00],\n",
       "       [-1.25176048e+00],\n",
       "       [-1.23735857e+00],\n",
       "       [-1.17947662e+00],\n",
       "       [-1.10734642e+00],\n",
       "       [-1.02342451e+00],\n",
       "       [-9.76489305e-01],\n",
       "       [-8.86288464e-01],\n",
       "       [-8.66639435e-01],\n",
       "       [-8.65244627e-01],\n",
       "       [-9.14931476e-01],\n",
       "       [-9.75637138e-01],\n",
       "       [-1.04166019e+00],\n",
       "       [-1.10534561e+00],\n",
       "       [-1.09893608e+00],\n",
       "       [-1.10863101e+00],\n",
       "       [-1.11882114e+00],\n",
       "       [-1.17025769e+00],\n",
       "       [-1.09142053e+00],\n",
       "       [-1.03168237e+00],\n",
       "       [-1.07924509e+00],\n",
       "       [-1.02523959e+00],\n",
       "       [-9.94342864e-01],\n",
       "       [-9.85030770e-01],\n",
       "       [-1.04057193e+00],\n",
       "       [-1.02524781e+00],\n",
       "       [-9.81045008e-01],\n",
       "       [-8.70664835e-01],\n",
       "       [-7.09405839e-01],\n",
       "       [-6.68656707e-01],\n",
       "       [-5.74116170e-01],\n",
       "       [-5.78620315e-01],\n",
       "       [-4.80608404e-01],\n",
       "       [-3.63174707e-01],\n",
       "       [-1.82122141e-01],\n",
       "       [ 1.19170547e-02],\n",
       "       [ 1.65418044e-01],\n",
       "       [ 1.99835658e-01],\n",
       "       [ 1.89758316e-01],\n",
       "       [ 2.92044789e-01],\n",
       "       [ 3.29448521e-01],\n",
       "       [ 3.37532610e-01],\n",
       "       [ 2.53763527e-01],\n",
       "       [ 9.19379890e-02],\n",
       "       [ 3.88750061e-02],\n",
       "       [-5.01382304e-03],\n",
       "       [-1.82610974e-01],\n",
       "       [-2.08325654e-01],\n",
       "       [-9.88182425e-02],\n",
       "       [-3.12764734e-01],\n",
       "       [-5.29521644e-01],\n",
       "       [-6.93693101e-01],\n",
       "       [-8.04693520e-01],\n",
       "       [-8.47532451e-01],\n",
       "       [-8.25897038e-01],\n",
       "       [-7.91842401e-01],\n",
       "       [-7.65911520e-01],\n",
       "       [-7.44710207e-01],\n",
       "       [-7.42254198e-01],\n",
       "       [-7.63256133e-01],\n",
       "       [-7.55604029e-01],\n",
       "       [-7.36955106e-01],\n",
       "       [-7.45213211e-01],\n",
       "       [-7.52672672e-01],\n",
       "       [-7.59797990e-01],\n",
       "       [-7.50778377e-01],\n",
       "       [-6.16698980e-01],\n",
       "       [-5.93530297e-01],\n",
       "       [-5.53074002e-01],\n",
       "       [-5.30599654e-01],\n",
       "       [-5.20025492e-01],\n",
       "       [-5.21935761e-01],\n",
       "       [-5.38256824e-01],\n",
       "       [-5.20234108e-01],\n",
       "       [-5.12541950e-01],\n",
       "       [-5.20869553e-01],\n",
       "       [-5.07648110e-01],\n",
       "       [-4.95494217e-01],\n",
       "       [-4.62185591e-01],\n",
       "       [-4.53349173e-01],\n",
       "       [-4.30043131e-01],\n",
       "       [-4.21336383e-01],\n",
       "       [-3.76892358e-01],\n",
       "       [-3.59256715e-01],\n",
       "       [-3.68168980e-01],\n",
       "       [-4.00488377e-01],\n",
       "       [-4.66462046e-01],\n",
       "       [-5.20165086e-01],\n",
       "       [-5.50705791e-01],\n",
       "       [-5.61614752e-01],\n",
       "       [-6.20429456e-01],\n",
       "       [-6.71797335e-01],\n",
       "       [-6.81923211e-01],\n",
       "       [-6.81227267e-01],\n",
       "       [-6.65455759e-01],\n",
       "       [-6.43764198e-01],\n",
       "       [-6.16033614e-01],\n",
       "       [-5.61566651e-01],\n",
       "       [-5.18709362e-01],\n",
       "       [-4.78703588e-01],\n",
       "       [-4.55074400e-01],\n",
       "       [-4.21066314e-01],\n",
       "       [-3.91755253e-01],\n",
       "       [-3.46559823e-01],\n",
       "       [-2.65233666e-01],\n",
       "       [-2.33492836e-01],\n",
       "       [-1.93963185e-01],\n",
       "       [-2.04553843e-01],\n",
       "       [-1.65059596e-01],\n",
       "       [-1.05740979e-01],\n",
       "       [ 1.23965787e-03],\n",
       "       [ 4.66593839e-02],\n",
       "       [ 9.70601887e-02],\n",
       "       [ 8.91113803e-02],\n",
       "       [ 1.46006644e-01],\n",
       "       [ 2.13563725e-01],\n",
       "       [ 2.98634320e-01],\n",
       "       [ 2.81446189e-01],\n",
       "       [ 2.33017564e-01],\n",
       "       [ 1.58543766e-01],\n",
       "       [ 8.45603496e-02],\n",
       "       [ 6.00202531e-02],\n",
       "       [ 6.49536103e-02],\n",
       "       [ 1.85281523e-02],\n",
       "       [ 9.92513448e-03],\n",
       "       [-7.79001368e-03],\n",
       "       [ 7.52215134e-03],\n",
       "       [ 4.70320433e-02],\n",
       "       [ 9.29991156e-02],\n",
       "       [ 1.08102664e-01],\n",
       "       [ 9.92488861e-02],\n",
       "       [ 9.35898274e-02],\n",
       "       [ 7.84301013e-02],\n",
       "       [ 1.03501968e-01],\n",
       "       [ 1.07387766e-01],\n",
       "       [ 1.35201782e-01],\n",
       "       [ 1.32483721e-01],\n",
       "       [ 1.44381523e-01],\n",
       "       [ 1.46969184e-01],\n",
       "       [ 1.59942240e-01],\n",
       "       [ 1.82280853e-01],\n",
       "       [ 1.99611157e-01],\n",
       "       [ 1.40803173e-01],\n",
       "       [ 1.03054285e-01],\n",
       "       [ 1.28491491e-01],\n",
       "       [ 1.57420352e-01],\n",
       "       [ 1.84006929e-01],\n",
       "       [ 2.32673064e-01],\n",
       "       [ 2.93049246e-01],\n",
       "       [ 3.27792823e-01],\n",
       "       [ 3.54698867e-01],\n",
       "       [ 3.67675036e-01],\n",
       "       [ 4.01331067e-01],\n",
       "       [ 4.12607104e-01],\n",
       "       [ 3.35471183e-01],\n",
       "       [ 2.84001768e-01],\n",
       "       [ 2.83198655e-01],\n",
       "       [ 2.92167932e-01],\n",
       "       [ 3.70689094e-01],\n",
       "       [ 4.25404429e-01],\n",
       "       [ 5.22186995e-01],\n",
       "       [ 6.22796953e-01],\n",
       "       [ 6.75633132e-01],\n",
       "       [ 6.92065597e-01],\n",
       "       [ 6.99844062e-01],\n",
       "       [ 7.07277477e-01],\n",
       "       [ 7.23170817e-01],\n",
       "       [ 7.05262423e-01],\n",
       "       [ 6.98252439e-01],\n",
       "       [ 7.24967420e-01],\n",
       "       [ 7.63733804e-01],\n",
       "       [ 7.75244772e-01],\n",
       "       [ 8.18904221e-01],\n",
       "       [ 8.60777080e-01],\n",
       "       [ 9.01128650e-01],\n",
       "       [ 9.34965134e-01],\n",
       "       [ 9.38655913e-01],\n",
       "       [ 9.32851255e-01],\n",
       "       [ 9.39041078e-01],\n",
       "       [ 9.51145351e-01],\n",
       "       [ 9.58822608e-01],\n",
       "       [ 9.54850674e-01],\n",
       "       [ 9.50137675e-01],\n",
       "       [ 9.46053803e-01],\n",
       "       [ 9.47779477e-01],\n",
       "       [ 9.53296959e-01],\n",
       "       [ 8.91630352e-01],\n",
       "       [ 9.15837348e-01],\n",
       "       [ 9.43994105e-01],\n",
       "       [ 9.91797447e-01],\n",
       "       [ 1.01244152e+00],\n",
       "       [ 1.03183568e+00],\n",
       "       [ 1.04117930e+00],\n",
       "       [ 1.06214011e+00],\n",
       "       [ 1.08087218e+00],\n",
       "       [ 1.11753500e+00],\n",
       "       [ 1.15748060e+00],\n",
       "       [ 1.17817867e+00],\n",
       "       [ 1.18113363e+00],\n",
       "       [ 1.19129193e+00],\n",
       "       [ 1.20968783e+00],\n",
       "       [ 1.21689546e+00],\n",
       "       [ 1.21812725e+00],\n",
       "       [ 1.21764374e+00],\n",
       "       [ 1.20776498e+00],\n",
       "       [ 1.20815778e+00],\n",
       "       [ 1.21499383e+00],\n",
       "       [ 1.22198164e+00],\n",
       "       [ 1.21726549e+00],\n",
       "       [ 1.22669184e+00],\n",
       "       [ 1.21332300e+00],\n",
       "       [ 1.19460642e+00],\n",
       "       [ 1.19309855e+00],\n",
       "       [ 1.21608245e+00],\n",
       "       [ 1.22259450e+00],\n",
       "       [ 1.16861999e+00],\n",
       "       [ 1.12547791e+00],\n",
       "       [ 1.07485938e+00],\n",
       "       [ 1.01065218e+00],\n",
       "       [ 9.28361118e-01],\n",
       "       [ 7.72026837e-01],\n",
       "       [ 6.49066329e-01],\n",
       "       [ 5.68958700e-01],\n",
       "       [ 4.91879791e-01],\n",
       "       [ 4.36189920e-01],\n",
       "       [ 4.50121611e-01],\n",
       "       [ 4.63408500e-01],\n",
       "       [ 4.95410055e-01],\n",
       "       [ 5.62425852e-01],\n",
       "       [ 6.02796316e-01],\n",
       "       [ 6.55859530e-01],\n",
       "       [ 7.00864315e-01],\n",
       "       [ 7.50213683e-01],\n",
       "       [ 7.54389703e-01],\n",
       "       [ 7.89911091e-01],\n",
       "       [ 8.37132156e-01],\n",
       "       [ 8.67640674e-01],\n",
       "       [ 8.98786783e-01],\n",
       "       [ 9.31650400e-01],\n",
       "       [ 9.61681306e-01],\n",
       "       [ 9.79374290e-01],\n",
       "       [ 9.93357360e-01]], dtype=float32)"
      ]
     },
     "execution_count": 27,
     "metadata": {},
     "output_type": "execute_result"
    }
   ],
   "source": [
    "xhat = model_lstm.predict(features_set)\n",
    "xhat"
   ]
  },
  {
   "cell_type": "code",
   "execution_count": 28,
   "metadata": {
    "scrolled": true
   },
   "outputs": [
    {
     "data": {
      "text/plain": [
       "pandas.core.series.Series"
      ]
     },
     "execution_count": 28,
     "metadata": {},
     "output_type": "execute_result"
    }
   ],
   "source": [
    "len(xtPriceOnly)\n",
    "type(xtPriceOnly)"
   ]
  },
  {
   "cell_type": "code",
   "execution_count": 29,
   "metadata": {
    "scrolled": false
   },
   "outputs": [
    {
     "data": {
      "image/png": "[encoded data removed]",
      "text/plain": [
       "<Figure size 1152x720 with 1 Axes>"
      ]
     },
     "metadata": {
      "needs_background": "light"
     },
     "output_type": "display_data"
    }
   ],
   "source": [
    "#Graph resulting fundamental price prediction\n",
    "#Default window size shows all periods\n",
    "#Default custom window size is 52 (one year under weekly)\n",
    "\n",
    "window_is_smaller_than_full_dataset = False\n",
    "window_size_in_periods = 52\n",
    "\n",
    "if window_is_smaller_than_full_dataset:\n",
    "    window = np.arange(len(xt) - window_size_in_periods,len(xt))\n",
    "else:    \n",
    "    window = np.arange(0,len(xt))\n",
    "\n",
    "plt.figure(figsize=(16,10))\n",
    "plt.title(Title + \": \" + str(n_timesteps) + \" weeks ahead predictions by LSTM net\",fontsize=16)\n",
    "\n",
    "plt.axvline(x= (xt.shape[0])-1,linestyle=':',color='k')\n",
    "plt.plot(xtPriceOnly.index[window],xtPriceOnly[window], linestyle=':', marker='o',color='red',label = \"$x_t$\")\n",
    "plt.plot(xtPriceOnly.index[window],xhat[window-n_timesteps], linestyle=':', marker='o',color='gray',label = \"$\\hat{x}_t$\")\n",
    "\n",
    "plt.grid(True)\n",
    "plt.legend(loc = 'lower left',fontsize=16)\n",
    "plt.show()\n",
    "\n",
    "#real price is always red"
   ]
  },
  {
   "cell_type": "code",
   "execution_count": null,
   "metadata": {
    "scrolled": true
   },
   "outputs": [],
   "source": []
  },
  {
   "cell_type": "code",
   "execution_count": null,
   "metadata": {
    "scrolled": true
   },
   "outputs": [],
   "source": []
  }
 ],
 "metadata": {
  "kernelspec": {
   "display_name": "Python 3",
   "language": "python",
   "name": "python3"
  },
  "language_info": {
   "codemirror_mode": {
    "name": "ipython",
    "version": 3
   },
   "file_extension": ".py",
   "mimetype": "text/x-python",
   "name": "python",
   "nbconvert_exporter": "python",
   "pygments_lexer": "ipython3",
   "version": "3.8.5"
  }
 },
 "nbformat": 4,
 "nbformat_minor": 4
}
